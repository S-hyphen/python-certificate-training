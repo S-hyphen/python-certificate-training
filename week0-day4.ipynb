{
 "cells": [
  {
   "cell_type": "markdown",
   "id": "6593202d",
   "metadata": {},
   "source": [
    "# WEEK0 DAT4- STRINGS SPECIAL FUNCTIONS\n",
    "## str.split():\n",
    "Return a list of the words in the string, using sep as the delimiter string.\n",
    "\n",
    "If maxsplit is not specified or -1, then there is no limit on the number of splits (all possible splits are made).\n",
    "\n",
    "If sep is given, consecutive delimiters are not grouped together and are deemed to delimit empty strings (for example, '1,,2'.split(',') returns ['1', '', '2']). \n",
    "\n",
    "it just splits whenever the symbol is found and how many it is authorized to do so\n"
   ]
  },
  {
   "cell_type": "code",
   "execution_count": 5,
   "id": "3a1f26c2",
   "metadata": {},
   "outputs": [
    {
     "name": "stdout",
     "output_type": "stream",
     "text": [
      "string is: ['1', '2', '3,4']\n"
     ]
    }
   ],
   "source": [
    "x=input(\"enter a given string: \")\n",
    "y=x.split(',',2)\n",
    "print(f\"string is: {y}\")"
   ]
  },
  {
   "cell_type": "markdown",
   "id": "19f2093b",
   "metadata": {},
   "source": [
    "### str.partition(sep)\n",
    "it partitions the string into three different part according to seperators. part before seperator,part after seperator and part seperator.\n",
    "\n",
    "if no seperators are found then whole string goes to part before string and two empty strings are creators\n"
   ]
  },
  {
   "cell_type": "markdown",
   "id": "2782b320",
   "metadata": {},
   "source": [
    "syntax:\n",
    "\n",
    "string_name.partition(' symbol ')\n",
    "side note: ('') is incorrect as it means no symbol in this case\n",
    " so make a space between them (' ')\n",
    "\n",
    " also \" \" and ' ' doesnt matter since ' ' is for the character and \" \" for the strings"
   ]
  },
  {
   "cell_type": "code",
   "execution_count": 15,
   "id": "c42111cd",
   "metadata": {},
   "outputs": [
    {
     "name": "stdout",
     "output_type": "stream",
     "text": [
      "('hello', ' ', 'world')\n"
     ]
    }
   ],
   "source": [
    "x=input(\"string:\")\n",
    "y=x.partition(\" \")\n",
    "print(f\"{y}\")"
   ]
  },
  {
   "cell_type": "markdown",
   "id": "0be3e07d",
   "metadata": {},
   "source": [
    "### str.join(iterable, /)\n",
    "\n",
    "Return a string which is the concatenation of the strings in iterable. A TypeError will be raised if there are any non-string values in iterable, including bytes objects. The separator between elements is the string providing this method.\n",
    "\n",
    "it helps in joining the characters.\n",
    "\n",
    "syntax:\n",
    "string_joining_char.joint(string_u_want_to_join)"
   ]
  },
  {
   "cell_type": "code",
   "execution_count": 12,
   "id": "5a078970",
   "metadata": {},
   "outputs": [
    {
     "name": "stdout",
     "output_type": "stream",
     "text": [
      "This...is...our...week...in...function\n"
     ]
    }
   ],
   "source": [
    "def hello(x):\n",
    "    y=x.split()\n",
    "    z='...'.join(y)\n",
    "    return z\n",
    "\n",
    "x=input(\"what to join:\")\n",
    "z=hello(x)\n",
    "print(f\"{z}\")"
   ]
  }
 ],
 "metadata": {
  "kernelspec": {
   "display_name": "Python 3",
   "language": "python",
   "name": "python3"
  },
  "language_info": {
   "codemirror_mode": {
    "name": "ipython",
    "version": 3
   },
   "file_extension": ".py",
   "mimetype": "text/x-python",
   "name": "python",
   "nbconvert_exporter": "python",
   "pygments_lexer": "ipython3",
   "version": "3.11.9"
  }
 },
 "nbformat": 4,
 "nbformat_minor": 5
}
