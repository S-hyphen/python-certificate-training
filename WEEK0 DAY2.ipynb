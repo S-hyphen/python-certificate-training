{
 "cells": [
  {
   "cell_type": "markdown",
   "id": "b9ee656e",
   "metadata": {},
   "source": [
    "### WEEK0 DAY 2\n",
    "\n",
    "### INTEGERS:\n",
    "- In Python, an integer is referred to as an int\n",
    "- We are familiar with +, -, *, /, and % operators\n",
    "- Opening up VS Code again, we can type code calculator.py in the   terminal. This will create a new file in which we will create our own calculator."
   ]
  },
  {
   "cell_type": "code",
   "execution_count": 17,
   "id": "b9523d50",
   "metadata": {},
   "outputs": [
    {
     "name": "stdout",
     "output_type": "stream",
     "text": [
      "sum of x and y is: 3\n"
     ]
    }
   ],
   "source": [
    "x=1\n",
    "y=2\n",
    "z=x+y\n",
    "print(f\"sum of x and y is: {z}\")"
   ]
  },
  {
   "cell_type": "code",
   "execution_count": null,
   "id": "c26915e6",
   "metadata": {},
   "outputs": [],
   "source": []
  },
  {
   "cell_type": "markdown",
   "id": "427b2d5b",
   "metadata": {},
   "source": [
    "#### Using input and output methods\n",
    "\n",
    "1. we use input to take the value of int and perfom operation to see what happens"
   ]
  },
  {
   "cell_type": "code",
   "execution_count": 18,
   "id": "5b5cc19c",
   "metadata": {},
   "outputs": [
    {
     "name": "stdout",
     "output_type": "stream",
     "text": [
      "sum = 12\n"
     ]
    }
   ],
   "source": [
    "x=input(\"get the value of x\")\n",
    "y=input(\"get the value of y:\")\n",
    "z=x+y\n",
    "print(f\"sum = {z}\")"
   ]
  },
  {
   "cell_type": "markdown",
   "id": "389869c2",
   "metadata": {},
   "source": [
    "#### PROBLEM:\n",
    "1. Output is supposed to be 3 but it shows 12 which means there is an issue \n",
    "2. issue is that python input function takes input as string and not as number\n",
    "3. we run following code to fix it\n"
   ]
  },
  {
   "cell_type": "code",
   "execution_count": 19,
   "id": "0ba258ec",
   "metadata": {},
   "outputs": [
    {
     "name": "stdout",
     "output_type": "stream",
     "text": [
      "sum is given as 3\n"
     ]
    }
   ],
   "source": [
    "x=int(input(\"get the value of x: \"))\n",
    "y=int(input(\"get the value of y: \"))\n",
    "z=x+y\n",
    "print(f\"sum is given as {z}\")"
   ]
  },
  {
   "cell_type": "markdown",
   "id": "788d8b80",
   "metadata": {},
   "source": [
    "### READABILITY OF A PROGRAM:\n",
    "\n",
    "1. When deciding on your approach to a coding task, remember that one could make a  reasonable argument for many approaches to the same problem. IN simple words: everything has a solution in many ways \n",
    "\n",
    "2. whatever the solution is it is important to note that solution must be understandable to everyone so code must be simple and readable"
   ]
  },
  {
   "cell_type": "code",
   "execution_count": 20,
   "id": "79b94691",
   "metadata": {},
   "outputs": [
    {
     "name": "stdout",
     "output_type": "stream",
     "text": [
      "multiply=6\n"
     ]
    }
   ],
   "source": [
    "##CODE 1:\n",
    "#takes number and multiplies\n",
    "X=int(input(\"value of x\"))\n",
    "Y=int(input(\"value of Y\"))\n",
    "Z=X*Y\n",
    "#shows the output\n",
    "print(f\"multiply={Z}\")"
   ]
  },
  {
   "cell_type": "code",
   "execution_count": 21,
   "id": "6e240bb2",
   "metadata": {},
   "outputs": [
    {
     "name": "stdout",
     "output_type": "stream",
     "text": [
      "multiply=1024\n"
     ]
    }
   ],
   "source": [
    "##CODE 2:\n",
    "#takes number and multiplies\n",
    "X=input(\"value of x\")\n",
    "Y=input(\"value of Y\")\n",
    "X=int(X)\n",
    "Y=int(Y)\n",
    "Z=X*Y\n",
    "#shows the output\n",
    "print(f\"multiply={Z}\")"
   ]
  },
  {
   "cell_type": "markdown",
   "id": "2608de08",
   "metadata": {},
   "source": [
    "### Among the above two codes CODE 2 is lengthier than code 1 and as a result it makes code more lengthy to read and understand even though code1 and code2 does the same thing.Thereforce code1 does readability in much better sense and also gets the job done"
   ]
  },
  {
   "cell_type": "markdown",
   "id": "8a4b0ef2",
   "metadata": {},
   "source": [
    "### Float in python:\n",
    "\n",
    "1. sometimes integer doesnt get the job done for a fraction\n",
    "2. so we develop a seperate data type which is known as float which gets the job done for the floating numbers\n",
    "3. float and int are both fundamental/primitive data types\n",
    "\n",
    "\n",
    "key difference:\n",
    "\n",
    "x=0,1,2,3,4,...... are int\n",
    "y=0.0,0.01,0.02,..... are float\n"
   ]
  },
  {
   "cell_type": "code",
   "execution_count": 22,
   "id": "86ce399b",
   "metadata": {},
   "outputs": [
    {
     "name": "stdout",
     "output_type": "stream",
     "text": [
      "sum of decimal numbers are:57.0 \n"
     ]
    }
   ],
   "source": [
    "##example of floating point numbers\n",
    "\n",
    "x=float(input(\"enter any decimal x: \"))\n",
    "y=float(input(\"enter any decimal y: \"))\n",
    "z=x+y \n",
    "print(f\"sum of decimal numbers are:{z} \")"
   ]
  },
  {
   "cell_type": "markdown",
   "id": "34078e71",
   "metadata": {},
   "source": [
    "### Operations to be used in floats\n",
    "\n",
    "since floats are decimals we can make sure we round off these numbers to the required decimal places. Some of the operations includes:\n",
    "\n",
    "#### Rounding off:\n",
    "1.syntax for rounding off includes:\n",
    "-->round(given_float_num,[digits we need to round to])\n",
    "\n",
    "Let’s imagine, however, that you want to round the total to the nearest integer. Looking at the Python documentation for round, you’ll see that the available arguments are round(number[, ndigits])\n",
    "\n",
    "\n",
    "#### Additional formating tips:\n",
    "print(f\"number={z:,}\") means that output z will include a comma when assigned a number to it.\n",
    "Though quite cryptic, that print(f\"{z:,}\") creates a scenario where the outputted z will include commas where the result could look like 1,000 or 2,500."
   ]
  },
  {
   "cell_type": "code",
   "execution_count": 23,
   "id": "b4cd8309",
   "metadata": {},
   "outputs": [
    {
     "name": "stdout",
     "output_type": "stream",
     "text": [
      "sum of decimal numbers are:5.0 \n"
     ]
    }
   ],
   "source": [
    "##example of floating point numbers rounding off\n",
    "\n",
    "x=float(input(\"enter any decimal x: \"))\n",
    "y=float(input(\"enter any decimal y: \"))\n",
    "z=x+y \n",
    "z=round(z,3)\n",
    "print(f\"sum of decimal numbers are:{z:,} \")"
   ]
  },
  {
   "cell_type": "markdown",
   "id": "6d5860e8",
   "metadata": {},
   "source": [
    "#### MORE THINGS ON FLOAT:\n",
    "sometimes a division can go on to the infinity so in that case what should we do?\n",
    "How can we round floating point values? \n",
    "\n",
    "Let’s imagine that we want to round this down. using the above code like in the intended way we can do stuffs.\n",
    "\n",
    "round(number_to_be_round, [digits after the decimal to be rounded])\n",
    "\n",
    "but instead of just rounding that using a seperate function we can do sth new\n",
    "for instance:\n",
    "\n",
    "print(f\"blah blah blah: {var:.(numberOfDigitsneeded)f} \")\n"
   ]
  },
  {
   "cell_type": "code",
   "execution_count": null,
   "id": "0d5a15e0",
   "metadata": {},
   "outputs": [
    {
     "name": "stdout",
     "output_type": "stream",
     "text": [
      "value of division is: 0.72\n",
      "value of division is:0.71875\n"
     ]
    }
   ],
   "source": [
    "x=float(input(\"enter a value of x:\"))\n",
    "y=float(input(\"enter a value of y:\"))\n",
    "z=x/y \n",
    "#printing using the new technique\n",
    "print(f\"value of division is: {z:.5f}\")\n",
    "\n",
    "\n",
    "#printing using the rounding functions\n",
    "z=round(z,5)\n",
    "print(f\"value of division is:{z:,}\")\n",
    "\n"
   ]
  },
  {
   "cell_type": "markdown",
   "id": "642a641f",
   "metadata": {},
   "source": [
    "### functions and python:\n",
    "\n",
    "1. sometimes functions provided by python is just never enough\n",
    "\n",
    "2. what should we do then? making a new function is the best answer\n",
    "\n",
    "3. in python and other languages we can create our own function with freedom using a function declarations\n",
    "\n",
    "4. Syntax:\n",
    " \n",
    "   def function_name(arguments):\n",
    "\n",
    "       function body\n",
    "       \n",
    "       return results \n",
    "\n",
    "5 we cannot use the function name which are already reserved as keywords,reserved words in python"
   ]
  },
  {
   "cell_type": "code",
   "execution_count": 30,
   "id": "554c4360",
   "metadata": {},
   "outputs": [
    {
     "name": "stdout",
     "output_type": "stream",
     "text": [
      "hello to you sir: shreeyut\n"
     ]
    }
   ],
   "source": [
    "def hello(to):\n",
    "    print(f\"hello to you sir: {to}\")\n",
    "\n",
    "x=input(\"what is ur name?\")\n",
    "hello(x)"
   ]
  },
  {
   "cell_type": "markdown",
   "id": "c820e664",
   "metadata": {},
   "source": [
    "\n",
    "\n",
    "Ask the user for their name, remove whitespace from the str and capitalize the first letter of each word\n",
    "name = input(\"What's your name? \").strip().title()\n",
    "\n",
    "printing output\n",
    "print(f\"hello, {name}\")\n",
    "We can better our code to create our own special function that says “hello” for us!\n",
    "\n",
    "Erasing all our code in our text editor, let’s start from scratch:\n",
    "\n"
   ]
  },
  {
   "cell_type": "code",
   "execution_count": 31,
   "id": "7110cabe",
   "metadata": {},
   "outputs": [
    {
     "ename": "TypeError",
     "evalue": "hello() missing 1 required positional argument: 'to'",
     "output_type": "error",
     "traceback": [
      "\u001b[31m---------------------------------------------------------------------------\u001b[39m",
      "\u001b[31mTypeError\u001b[39m                                 Traceback (most recent call last)",
      "\u001b[36mCell\u001b[39m\u001b[36m \u001b[39m\u001b[32mIn[31]\u001b[39m\u001b[32m, line 2\u001b[39m\n\u001b[32m      1\u001b[39m name = \u001b[38;5;28minput\u001b[39m(\u001b[33m\"\u001b[39m\u001b[33mWhat\u001b[39m\u001b[33m'\u001b[39m\u001b[33ms your name? \u001b[39m\u001b[33m\"\u001b[39m)\n\u001b[32m----> \u001b[39m\u001b[32m2\u001b[39m \u001b[43mhello\u001b[49m\u001b[43m(\u001b[49m\u001b[43m)\u001b[49m\n\u001b[32m      3\u001b[39m \u001b[38;5;28mprint\u001b[39m(name)\n",
      "\u001b[31mTypeError\u001b[39m: hello() missing 1 required positional argument: 'to'"
     ]
    }
   ],
   "source": [
    "name = input(\"What's your name? \")\n",
    "hello()\n",
    "print(name)\n"
   ]
  },
  {
   "cell_type": "markdown",
   "id": "331a7b1a",
   "metadata": {},
   "source": [
    "#### Why error?\n",
    " 1. in ipynb file one code segment can borrow the inputs and arguments given by another code segments which makes it much easier to interact\n",
    "\n",
    " 2. however it might be confusing if we are passing arguments correctly or not\n",
    "\n",
    " 3. but sometimes if we dont send the required arguments to the function when function clearly demands it inside the code it will throw an error and thats exactly what happened\n",
    "\n",
    " 4. in normal python attempting to call invalid functions without using def and logic will cause program to throw an error\n"
   ]
  },
  {
   "cell_type": "markdown",
   "id": "7a162c45",
   "metadata": {},
   "source": [
    "#### More functions to see optimized codes"
   ]
  },
  {
   "cell_type": "code",
   "execution_count": 32,
   "id": "6e54aac0",
   "metadata": {},
   "outputs": [
    {
     "name": "stdout",
     "output_type": "stream",
     "text": [
      "hello\n",
      "shee\n"
     ]
    }
   ],
   "source": [
    "def hello():\n",
    "    print(\"hello\")\n",
    "\n",
    "\n",
    "name = input(\"What's your name? \")\n",
    "hello()\n",
    "print(name)"
   ]
  },
  {
   "cell_type": "markdown",
   "id": "c8bd790e",
   "metadata": {},
   "source": [
    "##### In above changed function number 0:simple understandable functions\n",
    "\n",
    "\n",
    "\n",
    "Notice that everything under def hello() is indented. Python is an indented language. It uses indentation to understand what is part of the above function. Therefore, everything in the hello function must be indented. When something is not indented, it treats it as if it is not inside the hello function. Running python hello.py in the terminal window, you’ll see that your output is not exactly as you may want."
   ]
  },
  {
   "cell_type": "code",
   "execution_count": 33,
   "id": "ba5efbe3",
   "metadata": {},
   "outputs": [
    {
     "name": "stdout",
     "output_type": "stream",
     "text": [
      "hello, she\n"
     ]
    }
   ],
   "source": [
    "# Create our own function\n",
    "def hello(to):\n",
    "    print(\"hello,\", to)\n",
    "\n",
    "\n",
    "# Output using our own function\n",
    "name = input(\"What's your name? \")\n",
    "hello(name)"
   ]
  },
  {
   "cell_type": "markdown",
   "id": "931d0163",
   "metadata": {},
   "source": [
    "##### In above changed function number 1:parameter passings\n",
    "\n",
    "\n",
    "\n",
    "Here, in the first lines, you are creating your hello function. This time, however, you are telling the interpreter that this function takes a single parameter: a variable called to. Therefore, when you call hello(name) the computer passes name into the hello function as to. This is how we pass values into functions. Very useful! Running python hello.py in the terminal window, you’ll see that the output is much closer to our ideal presented earlier in this lecture."
   ]
  },
  {
   "cell_type": "code",
   "execution_count": 34,
   "id": "497dcf17",
   "metadata": {},
   "outputs": [
    {
     "name": "stdout",
     "output_type": "stream",
     "text": [
      "hello, shreeyut\n",
      "hello, world\n"
     ]
    }
   ],
   "source": [
    "# Create our own function\n",
    "def hello(to=\"world\"):\n",
    "    print(\"hello,\", to)\n",
    "\n",
    "\n",
    "# Output using our own function\n",
    "name = input(\"What's your name? \")\n",
    "hello(name)\n",
    "\n",
    "# Output without passing the expected arguments\n",
    "hello()"
   ]
  },
  {
   "cell_type": "markdown",
   "id": "c6bf19cd",
   "metadata": {},
   "source": [
    "##### In above changed function number 2:default argument\n",
    "when using arguments, if no arguments is passed inside the declared variable then variable will use what it is assigned to.If overwrite happens then it will take the new value.\n",
    "\n",
    "this function argument is called default argument\n",
    "\n",
    "Test out your code yourself. Notice how the first hello will behave as you might expect, and the second hello, which is not passed a value, will, by default, output hello, world."
   ]
  },
  {
   "cell_type": "code",
   "execution_count": 35,
   "id": "305575b0",
   "metadata": {},
   "outputs": [],
   "source": [
    "def main():\n",
    "\n",
    "    # Output using our own function\n",
    "    name = input(\"What's your name? \")\n",
    "    hello(name)\n",
    "\n",
    "    # Output without passing the expected arguments\n",
    "    hello()\n",
    "\n",
    "\n",
    "# Create our own function\n",
    "def hello(to=\"world\"):\n",
    "    print(\"hello,\", to)"
   ]
  },
  {
   "cell_type": "markdown",
   "id": "7469fe45",
   "metadata": {},
   "source": [
    "##### In above changed function number 3: No main function\n",
    "there is no main function that calls upon this\n",
    "\n",
    "if there is no program instruction outside the functions then functions wont be called at all which makes screen blank\n",
    "\n",
    "so we need a brand new function called main\n",
    "\n",
    "its not new but it helps in calling all the custom made function and aid in executing them"
   ]
  },
  {
   "cell_type": "code",
   "execution_count": 37,
   "id": "5be97086",
   "metadata": {},
   "outputs": [
    {
     "name": "stdout",
     "output_type": "stream",
     "text": [
      "hello, shreeyut\n",
      "hello, world\n"
     ]
    }
   ],
   "source": [
    "def main():\n",
    "\n",
    "    # Output using our own function\n",
    "    name = input(\"What's your name? \")\n",
    "    hello(name)\n",
    "\n",
    "    # Output without passing the expected arguments\n",
    "    hello()\n",
    "\n",
    "\n",
    "# Create our own function\n",
    "def hello(to=\"world\"):\n",
    "    print(\"hello,\", to)\n",
    "\n",
    "\n",
    "main()"
   ]
  },
  {
   "cell_type": "markdown",
   "id": "c963ed0f",
   "metadata": {},
   "source": [
    "##### In above function number 6: main()\n",
    "what main  does is that all the codes that is written inside the def main(): is called by interpreter and as a result all custom functions used inside the other functions is carried out."
   ]
  },
  {
   "cell_type": "code",
   "execution_count": 38,
   "id": "ebe0270d",
   "metadata": {},
   "outputs": [
    {
     "name": "stdout",
     "output_type": "stream",
     "text": [
      "say hello to my lil friend: sheee\n",
      "say hello to my lil friend: to badd\n"
     ]
    }
   ],
   "source": [
    "#sample example\n",
    "\n",
    "def hello(x=\"to badd\"):\n",
    "    print(f\"say hello to my lil friend: {x}\")\n",
    "\n",
    "def main():\n",
    "    x=input(\"can u please write something? \")\n",
    "    hello(x)\n",
    "    hello()\n",
    "\n",
    "main()"
   ]
  },
  {
   "cell_type": "markdown",
   "id": "592341c5",
   "metadata": {},
   "source": [
    "#### Returning of the functions argument:\n",
    "\n",
    "1. In python return is used to return the control of the program back to the main function\n",
    "\n",
    "2. While return it can return either nothing or something like string,numbers like int,float etc.\n",
    "\n",
    "3. You can imagine many scenarios where you don’t just want a function to perform an action but also to return a value back to the main function. For example, rather than simply printing the calculation of x + y, you may want a function to return the value of this calculation back to another part of your program. This “passing back” of a value we call a return value."
   ]
  },
  {
   "cell_type": "markdown",
   "id": "c55c96a9",
   "metadata": {},
   "source": []
  },
  {
   "cell_type": "code",
   "execution_count": 40,
   "id": "616ce0b0",
   "metadata": {},
   "outputs": [
    {
     "name": "stdout",
     "output_type": "stream",
     "text": [
      "value is given by: 1,024\n"
     ]
    }
   ],
   "source": [
    "def square(x):\n",
    "    return x*X\n",
    "\n",
    "def main():\n",
    "    x=int(input(\"enter a number \"))\n",
    "    y=square(x)\n",
    "    print(f\"value is given by: {y:,}\")\n",
    "\n",
    "main()\n"
   ]
  },
  {
   "cell_type": "markdown",
   "id": "320f870f",
   "metadata": {},
   "source": [
    "Effectively, x is passed to square. Then, the calculation of x * x is returned back to the main function."
   ]
  },
  {
   "cell_type": "markdown",
   "id": "45bbc586",
   "metadata": {},
   "source": [
    "# SUMMARY OF LEARNED VALUE:\n",
    "We learned:\n",
    "1. Creating your first programs in Python\n",
    "2. Functions;\n",
    "3. Bugs;\n",
    "4. Variables\n",
    "5. Comments;\n",
    "6. Pseudocode;\n",
    "7. Strings;\n",
    "8. Parameters;\n",
    "9. Formatted Strings;\n",
    "10. Integers;\n",
    "11. Principles of readability;\n",
    "12. Floats;\n",
    "13. Creating your own functions; and\n",
    "14. Return values"
   ]
  }
 ],
 "metadata": {
  "kernelspec": {
   "display_name": "Python 3",
   "language": "python",
   "name": "python3"
  },
  "language_info": {
   "codemirror_mode": {
    "name": "ipython",
    "version": 3
   },
   "file_extension": ".py",
   "mimetype": "text/x-python",
   "name": "python",
   "nbconvert_exporter": "python",
   "pygments_lexer": "ipython3",
   "version": "3.11.9"
  }
 },
 "nbformat": 4,
 "nbformat_minor": 5
}
