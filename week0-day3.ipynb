{
 "cells": [
  {
   "cell_type": "markdown",
   "id": "dc58f594",
   "metadata": {},
   "source": [
    "# String documentations\n",
    "1. Strings implement all of the common sequence operations, along with the additional methods described below.\n",
    "\n",
    "2. Strings also support two styles of string formatting, one providing a large degree of flexibility and customization (see str.format(), Format String Syntax and Custom String Formatting) \n",
    "\n",
    "3. And the other based on C printf style formatting that handles a narrower range of types and is slightly harder to use correctly, but is often faster for the cases it can handle (printf-style String Formatting).\n"
   ]
  },
  {
   "cell_type": "markdown",
   "id": "157e0c39",
   "metadata": {},
   "source": [
    "## Functions inside the string\n",
    "\n",
    "### str.capitalize()\n",
    "Return a copy of the string with its first character capitalized and the rest lowercased.\n",
    "\n",
    "syntax\n",
    "new_string=str.capitalize(string)\n",
    "\n",
    "if we want to capitalize even inside the function without needing second line we can still do:\n",
    "\n",
    "x=str.capitalize(input(\"what u need to enter?: \"))"
   ]
  },
  {
   "cell_type": "code",
   "execution_count": 6,
   "id": "2c15b424",
   "metadata": {},
   "outputs": [
    {
     "name": "stdout",
     "output_type": "stream",
     "text": [
      "I want: Hello :3\n"
     ]
    }
   ],
   "source": [
    "x=str.capitalize(input(\"what u want?\"))\n",
    "\n",
    "print(f\"I want: {x} :3\")"
   ]
  },
  {
   "cell_type": "markdown",
   "id": "280ced18",
   "metadata": {},
   "source": [
    "### str.casefold() \n",
    "Return a casefolded copy of the string. Casefolded strings may be used for caseless matching.\n",
    "\n",
    "Casefolding is similar to lowercasing but more aggressive because it is intended to remove all case distinctions in a string.\n",
    "\n",
    "For example, the German lowercase letter 'ß' is equivalent to \"ss\". Since it is already lowercase, lower() would do nothing to 'ß'; casefold() converts it to \"ss\""
   ]
  },
  {
   "cell_type": "markdown",
   "id": "dbfe0b11",
   "metadata": {},
   "source": [
    "In short words:-\n",
    "\n",
    "if lowercase reduces the casing of the letter then casefold just makes sure that it also converst equivalent sounding symbol into the readable english one\n",
    "\n",
    "syntax: x=str.casefold(string_to_be_converted)"
   ]
  },
  {
   "cell_type": "code",
   "execution_count": 8,
   "id": "4f89c2ef",
   "metadata": {},
   "outputs": [
    {
     "name": "stdout",
     "output_type": "stream",
     "text": [
      "casefolded letter is:shreeeyut\n"
     ]
    }
   ],
   "source": [
    "x=str.casefold(input(\"What u want to convert the value to lower casing? \"))\n",
    "print(f\"casefolded letter is:{x}\")"
   ]
  },
  {
   "cell_type": "markdown",
   "id": "ffd423c1",
   "metadata": {},
   "source": [
    "### str.center()\n",
    "1.Return centered in a string of length width.\n",
    "\n",
    "2.Padding is done using the specified fillchar (default is an ASCII space). The original string is returned if width is less than or equal to len(s)\n",
    "\n",
    "3.syntax:\n",
    "str_name.center(widthFill,fillChar='symbol',positional_only_parameter_seperator)"
   ]
  },
  {
   "cell_type": "code",
   "execution_count": 12,
   "id": "0cc65871",
   "metadata": {},
   "outputs": [
    {
     "name": "stdout",
     "output_type": "stream",
     "text": [
      "string:Shreeyut\n"
     ]
    }
   ],
   "source": [
    "x=str.capitalize(input(\" what is ur name?\"))\n",
    "x.center(10,'-')\n",
    "print(f\"string:{x}\")\n",
    "                       "
   ]
  },
  {
   "cell_type": "markdown",
   "id": "77f4006a",
   "metadata": {},
   "source": [
    "### str.count()\n",
    "\n",
    "counts number of non overlapping occurences of substrings\n",
    "string_name.count(sub[, start[, end]])\n",
    "\n",
    "note it will return value as integer"
   ]
  },
  {
   "cell_type": "code",
   "execution_count": 20,
   "id": "2cdda569",
   "metadata": {},
   "outputs": [
    {
     "data": {
      "text/plain": [
       "2"
      ]
     },
     "execution_count": 20,
     "metadata": {},
     "output_type": "execute_result"
    }
   ],
   "source": [
    "x=input(\"Enter the number of 3 strings called as spams\")\n",
    "x.count(\"hel\",4,12)\n",
    "# 5 means it starts at string array position of 5 and ends at 10\n"
   ]
  },
  {
   "cell_type": "markdown",
   "id": "59e8e424",
   "metadata": {},
   "source": [
    "### str.title()\n",
    "\n",
    "Return a titlecased version of the string where words start with an uppercase character and the remaining characters are lowercase.\n",
    "\n",
    "syntax:\n",
    "y=string_name.title() or just print inline by:\n",
    "\n",
    "print(f\"{x.title()}\")"
   ]
  },
  {
   "cell_type": "code",
   "execution_count": 25,
   "id": "91069ec6",
   "metadata": {},
   "outputs": [
    {
     "name": "stdout",
     "output_type": "stream",
     "text": [
      "Shreeyut Thapa\n"
     ]
    }
   ],
   "source": [
    "x=(input(\"enter a string: \"))\n",
    "y=x.title()\n",
    "print(f\"{y}\")"
   ]
  },
  {
   "cell_type": "markdown",
   "id": "cb622b94",
   "metadata": {},
   "source": [
    "### str.upper()\n",
    "\n",
    "Just makes the string as uppercase.\n",
    "Return a copy of the string with all the cased characters converted to uppercase.\n"
   ]
  },
  {
   "cell_type": "code",
   "execution_count": 29,
   "id": "dc3aec13",
   "metadata": {},
   "outputs": [
    {
     "name": "stdout",
     "output_type": "stream",
     "text": [
      "AAAAAAAA\n",
      "aaaaaaaa\n"
     ]
    }
   ],
   "source": [
    "x=input(\"take a string:\")\n",
    "y=x.upper()\n",
    "print(f\"{y}\")\n",
    "\n",
    "y=x.lower()\n",
    "print(f\"{y}\")"
   ]
  }
 ],
 "metadata": {
  "kernelspec": {
   "display_name": "Python 3",
   "language": "python",
   "name": "python3"
  },
  "language_info": {
   "codemirror_mode": {
    "name": "ipython",
    "version": 3
   },
   "file_extension": ".py",
   "mimetype": "text/x-python",
   "name": "python",
   "nbconvert_exporter": "python",
   "pygments_lexer": "ipython3",
   "version": "3.11.9"
  }
 },
 "nbformat": 4,
 "nbformat_minor": 5
}
