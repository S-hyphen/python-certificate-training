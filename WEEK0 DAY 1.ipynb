{
 "cells": [
  {
   "cell_type": "markdown",
   "id": "87122550",
   "metadata": {},
   "source": [
    "### WEEK0 DAY-1: FUNCTIONS\n",
    "\n",
    "1) Functions are verbs or actions that the computer or computer language will already know how to perform.\n",
    "2) In your hello.py program, the print function knows how to print to the terminal window.\n",
    "3) The print function takes arguments. In this case, \"hello, world\" are the arguments that the print function takes."
   ]
  },
  {
   "cell_type": "markdown",
   "id": "33682569",
   "metadata": {},
   "source": []
  },
  {
   "cell_type": "code",
   "execution_count": 1,
   "id": "fc75baf2",
   "metadata": {},
   "outputs": [
    {
     "name": "stdout",
     "output_type": "stream",
     "text": [
      "helloworld\n"
     ]
    }
   ],
   "source": [
    "print(\"helloworld\")"
   ]
  },
  {
   "cell_type": "markdown",
   "id": "29ce13f3",
   "metadata": {},
   "source": [
    "### WEEK0 DAY-1: BUGS AND DEBUGS\n",
    "\n",
    "1) Bugs are a natural part of coding. These are mistakes, problems for you to solve! Don’t get discouraged! This is part of the process of becoming a great programmer.\n",
    "\n",
    "2) Imagine that in our hello.py program we accidentally typed print(\"hello, world\", forgetting the final ) required by the print function. If you make this mistake, the interpreter will output an error in the terminal window!\n",
    "\n",
    "3) Error messages can often inform you of your mistakes and provide clues on how to fix them. However, there will be many times when the interpreter is not this helpful."
   ]
  },
  {
   "cell_type": "markdown",
   "id": "f0b8d43e",
   "metadata": {},
   "source": [
    "### Improving  First Python Program\n",
    "1) We can personalize your first Python program.\n",
    "2) In our text editor in hello.py we can add another function. \n",
    "3) input is a function that takes a prompt as an argument. We can edit our code to say\n",
    "\n",
    "\n",
    "### NOTE TO REMEMBER:\n",
    "ipynb files show the input not in the termina but in the search bar above so we need to enter value from the above instead"
   ]
  },
  {
   "cell_type": "code",
   "execution_count": 5,
   "id": "0cd81c9d",
   "metadata": {},
   "outputs": [
    {
     "name": "stdout",
     "output_type": "stream",
     "text": [
      "My name is: shreeyut\n"
     ]
    }
   ],
   "source": [
    "name=input(\"what is ur name: \")\n",
    "print(f\"My name is: {name}\")\n"
   ]
  },
  {
   "cell_type": "markdown",
   "id": "7fea2e5e",
   "metadata": {},
   "source": [
    "### WEEK0-DAY 1\n",
    "\n",
    "VARIABLE\n",
    "\n",
    "1) A variable is just a container for a value within your own program.\n",
    "\n",
    "2) In your program, you can introduce your own variable in your program by editing it to read\n",
    "\n",
    "3) equal '=' sign in the middle of name = input(\"What's your name? \") has a special role in programming. This equal sign literally assigns what is on the right to what is on the left. Therefore, the value returned by input(\"What's your name? \") is assigned to name.\n",
    "\n",
    "4) if you edit your code as follows, you will notice an unexpected result:\n",
    "\n",
    "   name = input(\"What's your name? \")\n",
    "   print(\"hello, name\")\n",
    "  1) The program will return hello, name in the terminal window    regardless of what the user types.\n",
    "  2) Further editing our code, you could type:  \n",
    "\n",
    "     name = input(\"What's your name? \")\n",
    "    print(\"hello,\")\n",
    "    print(name)\n",
    "  3) The result in the terminal window would be\n",
    "     What's your name? David \n",
    "\n",
    "     hello\n",
    "     \n",
    "     David\n",
    "     \n",
    "    We are getting closer to the result we might intend!\n",
    "\n"
   ]
  },
  {
   "cell_type": "markdown",
   "id": "0f22188b",
   "metadata": {},
   "source": [
    "String:\n",
    "\n",
    "1) it takes text\n",
    "2) it is handled by default in input\n",
    "3) when using print function it automatically ends with new line    character called \\n\n",
    "\n",
    "4) so we can just make the print to print the last character with anything we want to end it with\n",
    "\n",
    "syntax: print(\" text to write\",end=\"\")\n",
    "we can add symbol we want to end with so that it doesnt skip line"
   ]
  },
  {
   "cell_type": "markdown",
   "id": "527fe256",
   "metadata": {},
   "source": [
    "### 1.striping:\n",
    "\n",
    "1) name=name.strip()\n",
    "2) it removes the white space from the start and end of the name and makes name clear\n"
   ]
  },
  {
   "cell_type": "markdown",
   "id": "5d336b9c",
   "metadata": {},
   "source": [
    "### 2.title:\n",
    "\n",
    "1. title will capitalize the first letter of the name variable\n",
    "2. used for specific purpose"
   ]
  },
  {
   "cell_type": "code",
   "execution_count": 25,
   "id": "b8a59e71",
   "metadata": {},
   "outputs": [
    {
     "name": "stdout",
     "output_type": "stream",
     "text": [
      "my fucking name with title and no space is: ['None']\n"
     ]
    }
   ],
   "source": [
    "name1=input(\"what is ur fucking name?\").title().split()\n",
    "\n",
    "##Note: \n",
    "\n",
    "##OR WE CAN WRITE IT AS \n",
    "##name1=name1.title()\n",
    "#name1=name1.split()\n",
    "\n",
    "##but not as \n",
    "##name1=name1.split().title()\n",
    "\n",
    "##also as name1=name1.title().split()\n",
    "\n",
    "print(f\"my fucking name with title and no space is: {name1}\")"
   ]
  },
  {
   "cell_type": "code",
   "execution_count": null,
   "id": "4eccdde5",
   "metadata": {},
   "outputs": [],
   "source": []
  }
 ],
 "metadata": {
  "kernelspec": {
   "display_name": "Python 3",
   "language": "python",
   "name": "python3"
  },
  "language_info": {
   "codemirror_mode": {
    "name": "ipython",
    "version": 3
   },
   "file_extension": ".py",
   "mimetype": "text/x-python",
   "name": "python",
   "nbconvert_exporter": "python",
   "pygments_lexer": "ipython3",
   "version": "3.11.9"
  }
 },
 "nbformat": 4,
 "nbformat_minor": 5
}
